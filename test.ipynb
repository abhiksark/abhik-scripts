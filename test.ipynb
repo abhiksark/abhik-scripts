{
 "cells": [
  {
   "cell_type": "code",
   "execution_count": 60,
   "id": "5945616f-e43f-401d-93b9-b2592f919194",
   "metadata": {},
   "outputs": [],
   "source": [
    "d1 = {\n",
    "    \"a\":1,\n",
    "    \"b\":{\n",
    "        \"a\":2,\n",
    "        \"c\":1\n",
    "    }\n",
    "}"
   ]
  },
  {
   "cell_type": "code",
   "execution_count": 61,
   "id": "c726dce3-bc5d-495d-baaf-0f7e5d512191",
   "metadata": {},
   "outputs": [],
   "source": [
    "d2 = {\n",
    "    \"a\":1,\n",
    "    \"c\":2,\n",
    "    \"b\":{\n",
    "        \"a\":4\n",
    "    }\n",
    "}"
   ]
  },
  {
   "cell_type": "code",
   "execution_count": 67,
   "id": "06aa3c6b-67c3-4c0d-b409-47a1a1743f92",
   "metadata": {},
   "outputs": [],
   "source": [
    "def test(d1,d2):\n",
    "    for k,v in d2.items():\n",
    "        if isinstance(v,dict) and k in d1 and isinstance(d1[k],dict):\n",
    "            d1[k]= test(d1[k],v)\n",
    "        else:\n",
    "            d1[k]=v\n",
    "    return d1"
   ]
  },
  {
   "cell_type": "code",
   "execution_count": 68,
   "id": "871328f2-0283-41cf-958c-613c48e441b2",
   "metadata": {},
   "outputs": [
    {
     "data": {
      "text/plain": [
       "{'a': 1, 'b': {'a': 4, 'c': 1}, 'c': 2}"
      ]
     },
     "execution_count": 68,
     "metadata": {},
     "output_type": "execute_result"
    }
   ],
   "source": [
    "test(d1,d2)"
   ]
  },
  {
   "cell_type": "code",
   "execution_count": null,
   "id": "99a168e6-28af-4719-a6f5-89a8333a37be",
   "metadata": {},
   "outputs": [],
   "source": []
  }
 ],
 "metadata": {
  "kernelspec": {
   "display_name": "Python 3 (ipykernel)",
   "language": "python",
   "name": "python3"
  },
  "language_info": {
   "codemirror_mode": {
    "name": "ipython",
    "version": 3
   },
   "file_extension": ".py",
   "mimetype": "text/x-python",
   "name": "python",
   "nbconvert_exporter": "python",
   "pygments_lexer": "ipython3",
   "version": "3.8.18"
  }
 },
 "nbformat": 4,
 "nbformat_minor": 5
}
